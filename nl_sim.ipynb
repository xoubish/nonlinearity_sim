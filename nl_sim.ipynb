{
 "cells": [
  {
   "cell_type": "markdown",
   "metadata": {},
   "source": [
    "## Combining Pat's RAMP simulator with noise generator \n",
    "\n",
    "Started April 20th <br>\n",
    "Last edited April 21st"
   ]
  },
  {
   "cell_type": "markdown",
   "metadata": {},
   "source": [
    "The RAMP simulator is per pixel now, should change to image by adding to noise generator (read noise, shot noise, 1/f (pink) noise) data cube and loop over reads. The noise generator takes longer for generating all the reads ...\n"
   ]
  },
  {
   "cell_type": "code",
   "execution_count": 9,
   "metadata": {},
   "outputs": [],
   "source": [
    "from make_random_trace import make_random_trace\n",
    "import numpy as np\n",
    "import numpy.polynomial.polynomial as poly\n",
    "import matplotlib.pyplot as plt\n",
    "\n",
    "import nghxrg as ng"
   ]
  },
  {
   "cell_type": "code",
   "execution_count": 7,
   "metadata": {},
   "outputs": [],
   "source": [
    "# Instantiate a noise generator object for NIRSpec H2RGs. You\n",
    "# can set verbose=True if you want to see diagnostic information. This\n",
    "# will take about 20 seconds to execute on a modern laptop computer.\n",
    "ng_h2rg = ng.HXRGNoise(verbose=False, naxis3 = 10)\n",
    "#ng_h4rg = ng.HXRGNoise(naxis1=4096, naxis2=4096, n_out=32, nroh=8, verbose=False)\n",
    "\n",
    "\n",
    "# Use parameters that generate noise similar to JWST NIRSpec\n",
    "rd_noise=4.   # White read noise per integration\n",
    "pedestal=4.   # DC pedestal drift rms\n",
    "c_pink=3.     # Correlated pink noise\n",
    "u_pink=1.     # Uncorrelated pink noise\n",
    "acn=.5        # Correlated ACN\n",
    "pca0_amp=.2   # Amplitude of PCA zero \"picture frame\" noise\n",
    "\n",
    "# Do it\n",
    "my_hdu = ng_h2rg.mknoise('ex_2.1.1.fits', rd_noise=rd_noise, pedestal=pedestal,\n",
    "                c_pink=c_pink, u_pink=u_pink, acn=acn, pca0_amp=pca0_amp)"
   ]
  },
  {
   "cell_type": "code",
   "execution_count": 8,
   "metadata": {},
   "outputs": [
    {
     "name": "stdout",
     "output_type": "stream",
     "text": [
      "(10, 2048, 2048)\n"
     ]
    }
   ],
   "source": [
    "import astropy.io.fits as fits\n",
    "\n",
    "\n",
    "# Open the result of Ex. 2.1.1\n",
    "hdulist = fits.open('ex_2.1.1.fits')\n",
    "\n",
    "# Add Poisson noise to the data\n",
    "d = hdulist[0].data \n",
    "\n",
    "print(d.shape)"
   ]
  },
  {
   "cell_type": "code",
   "execution_count": 3,
   "metadata": {},
   "outputs": [],
   "source": [
    "import astropy.io.fits as fits\n",
    "# Setup\n",
    "i_dark = 0.005# e-/s/pix\n",
    "t = 934.# s\n",
    "\n",
    "# Open the result of Ex. 2.1.1\n",
    "hdulist = fits.open('ex_2.1.1.fits')\n",
    "\n",
    "# Add Poisson noise to the data\n",
    "d = hdulist[0].data + np.random.poisson(i_dark*t, np.shape(hdulist[0].data))\n",
    "\n",
    "# Write result\n",
    "hduout = fits.PrimaryHDU(d)\n",
    "hduout.writeto('ex_2.1.1b.fits', clobber=True)\n",
    "\n",
    "# Clean up\n",
    "hdulist.close()"
   ]
  },
  {
   "cell_type": "code",
   "execution_count": 14,
   "metadata": {},
   "outputs": [],
   "source": [
    "ng=15\n",
    "nf=16\n",
    "nd=11\n",
    "darkcurrent = 0.04\n",
    "lightcurrent = 10.0\n",
    "nonlin = -5.0e-5\n",
    "readnoise = 9. \n",
    "tf = 1.4548 # tf = 1.42 in DPU test Sec. 8.2.\n",
    "detGain = 1.3 # detGain = 1/1.4 DPU test; typos \"8.4\"?\n",
    "offsetADU = 0.\n",
    "\n",
    "def sumRange(L,a,b,printslopes):                                                                                                                                                                                                \n",
    "    s = 0                                                                                                                                                                                                         \n",
    "    for i in range(a,b):  \n",
    "        if printslopes:\n",
    "            if i == a:\n",
    "                print('Group slopes:')\n",
    "            print(i, ' ', L[i] - L[i-1])\n",
    "        s += pow((L[i] - L[i-1]) + beta,2)  \n",
    "    return s "
   ]
  },
  {
   "cell_type": "code",
   "execution_count": 15,
   "metadata": {},
   "outputs": [
    {
     "name": "stdout",
     "output_type": "stream",
     "text": [
      "Slope DPU =  238.77384942980896\n",
      "Signal DPU =  3342.8338920173255\n",
      "Quality Flag =  127.27428017261576\n",
      "Slope Polyfit(1) =  166.8332591072698  Chi-Squared =  2112.6478037844176\n"
     ]
    },
    {
     "data": {
      "text/plain": [
       "<matplotlib.legend.Legend at 0x12291bc90>"
      ]
     },
     "execution_count": 15,
     "metadata": {},
     "output_type": "execute_result"
    },
    {
     "data": {
      "image/png": "[encoded data removed]",
      "text/plain": [
       "<Figure size 432x288 with 1 Axes>"
      ]
     },
     "metadata": {
      "needs_background": "light"
     },
     "output_type": "display_data"
    }
   ],
   "source": [
    "sigmaRead = readnoise/detGain # ADU\n",
    "fluence = ( darkcurrent + lightcurrent )/ detGain  # ADU/sec\n",
    "tgrp = (nf + nd)*tf\n",
    "tint = (ng-1.)*(nf+nd)*tf\n",
    "\n",
    "nreads = int((ng*nf + (ng-1.)*nd))\n",
    "texp =  nreads*tf\n",
    "\n",
    "# time vector\n",
    "read = np.arange(nreads)\n",
    "tread = read*tf\n",
    "fdark = fluence*tread + nonlin*((fluence*tread)**2) #  curved signal\n",
    "plt.plot(tread,fdark,label='dark')\n",
    "\n",
    "rg = np.random.rand(nreads)            \n",
    "fdarkN = fdark + rg * sigmaRead  / np.max(rg)  \n",
    "\n",
    "plt.plot(tread,fdarkN,label='+random noise')\n",
    "\n",
    "\n",
    "\n",
    "alpha = (1 - (nf**2))/(3.*nf*(nf+nd))  \n",
    "beta = 2.*(sigmaRead**2)/(nf*(alpha+1))   \n",
    "\n",
    "s2 = np.float()\n",
    "t2 = np.float()\n",
    "for i in range(nreads):\n",
    "    if i % int(nf+nd) in (range(nf)):\n",
    "        s = fdarkN[i]\n",
    "        t = tread[i]\n",
    "        s2 = np.append(s2, s)\n",
    "        t2 = np.append(t2, t) \n",
    "\n",
    "plt.plot(t2,s2,'r.',label='groups')\n",
    "\n",
    "fgrp = np.reshape(s2[1:],[ng,nf])\n",
    "tgrp = np.reshape(t2[1:],[ng,nf])\n",
    "fgrpavg,tgrpavg =[],[]\n",
    "for i in range(ng):\n",
    "    fga = np.mean(fgrp[i,:])\n",
    "    tga = np.mean(tgrp[i,:])\n",
    "    fgrpavg = np.append(fgrpavg, fga)\n",
    "    tgrpavg = np.append(tgrpavg, tga)\n",
    "\n",
    "#fgrpavg = fgrpavg[1:]\n",
    "#tgrpavg = tgrpavg[1:]\n",
    "plt.plot(tgrpavg,fgrpavg,'g.',label='avg')\n",
    "\n",
    "\n",
    "L = fgrpavg   \n",
    "deltaT = tgrpavg[1]-tgrpavg[0] \n",
    "a = 1\n",
    "b = ng\n",
    "\n",
    "slopeDPU_1 = np.sqrt( 1 + 4 * ( sumRange(L,a,b,0)/((ng - 1)*((1+alpha)**2)) ) )  # DPU Manual\n",
    "slopeDPU_0 = (1 + alpha) / 2.  # DPU manual\n",
    "slopeDPU = slopeDPU_0 * (slopeDPU_1 - 1) - beta\n",
    "print('Slope DPU = ', slopeDPU)\n",
    "\n",
    "signalDPU = slopeDPU * (ng - 1) + offsetADU # Downlinked signal in ADU\n",
    "print('Signal DPU = ', signalDPU)\n",
    "\n",
    "\n",
    "pseudoFlux = np.sqrt ( sumRange(L,a,b,0) / (ng - 1) ) - beta\n",
    "QF = ( 2*detGain/(1+alpha) ) * ( (ng - 1)*pseudoFlux - (fgrpavg[ng-1] - fgrpavg[0]) )\n",
    "print('Quality Flag = ', QF) \n",
    "\n",
    "    # Simple least squares fit to the full ramp for comparison\n",
    "coeff = poly.polyfit(tread[1:], fdarkN[1:], 1)\n",
    "ffit = poly.polyval(tread[1:], coeff)\n",
    "chisqr = np.sum((poly.polyval(tread, coeff) - fdarkN) ** 2) / np.std(fdarkN)\n",
    "\n",
    "print(\"Slope Polyfit(1) = \", coeff[0],\" Chi-Squared = \", chisqr)\n",
    "\n",
    "plt.legend(loc=4)\n"
   ]
  },
  {
   "cell_type": "code",
   "execution_count": null,
   "metadata": {},
   "outputs": [],
   "source": []
  },
  {
   "cell_type": "code",
   "execution_count": null,
   "metadata": {},
   "outputs": [],
   "source": []
  }
 ],
 "metadata": {
  "kernelspec": {
   "display_name": "Python 3",
   "language": "python",
   "name": "python3"
  },
  "language_info": {
   "codemirror_mode": {
    "name": "ipython",
    "version": 3
   },
   "file_extension": ".py",
   "mimetype": "text/x-python",
   "name": "python",
   "nbconvert_exporter": "python",
   "pygments_lexer": "ipython3",
   "version": "3.7.4"
  }
 },
 "nbformat": 4,
 "nbformat_minor": 4
}
