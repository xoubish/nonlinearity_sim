{
 "cells": [
  {
   "cell_type": "markdown",
   "metadata": {},
   "source": [
    "## Combining Pat's RAMP simulator with noise generator \n",
    "\n",
    "Started April 20th <br>\n",
    "Last edited April 28th"
   ]
  },
  {
   "cell_type": "markdown",
   "metadata": {},
   "source": [
    "The RAMP simulator is per pixel now, should change to image by adding to noise generator (read noise, shot noise, 1/f (pink) noise) data cube and loop over reads. The noise generator takes longer for generating all the reads ...\n"
   ]
  },
  {
   "cell_type": "code",
   "execution_count": 1,
   "metadata": {},
   "outputs": [],
   "source": [
    "from make_random_trace import make_random_trace\n",
    "import numpy as np\n",
    "import numpy.polynomial.polynomial as poly\n",
    "import matplotlib.pyplot as plt\n",
    "\n",
    "import nghxrg as ng"
   ]
  },
  {
   "cell_type": "code",
   "execution_count": 40,
   "metadata": {},
   "outputs": [],
   "source": [
    "def sumRange(L,a,b,printslopes):                                                                                                                                                                                                \n",
    "    s = 0                                                                                                                                                                                                         \n",
    "    for i in range(a,b):  \n",
    "        if printslopes:\n",
    "            if i == a:\n",
    "                print('Group slopes:')\n",
    "            print(i, ' ', L[i] - L[i-1])\n",
    "        s += pow((L[i] - L[i-1]) + beta,2)  \n",
    "    return s \n",
    "\n",
    "def make_random_trace(nelem=2e4, k=1., plots=1):\n",
    "    ''' make a binary random trace in (-1,1) with exponentially distributed dwell \n",
    "    times. nelem = number of jumps. k = rate.'''\n",
    "    k = float(k)\n",
    "    dt = 1./k\n",
    "    rg = np.random.rand( np.int(nelem) )\n",
    "    ra = np.abs(rg)\n",
    "    ra = ra/np.max(ra)\n",
    "    # exponentially distributed jumps:\n",
    "    t = np.log(1/ra)/k\n",
    "    tr = np.floor(t/dt)\n",
    "    # print('max trace ',np.max(tr))\n",
    "    x = []\n",
    "    s = 3.0e-3\n",
    "    # do it:\n",
    "    for j in np.arange(len(tr)):\n",
    "        for ti in np.arange(np.int(tr[j])):\n",
    "            x = np.append(x, s*np.ones(ti))\n",
    "            s = -s\n",
    "    time = np.arange(len(x))*dt\n",
    "    spectrum_x = np.abs(np.fft.fft(x))**2\n",
    "    freq_x = np.fft.fftfreq(len(x), d=dt)\n",
    "    freq_x = freq_x[:int(len(spectrum_x)/2.)]\n",
    "    spectrum_x = spectrum_x[:len(freq_x)]\n",
    "    spectrum_x = spectrum_x/float(len(x)**2 *freq_x[1])\n",
    "    spectrum_x[1:] = 2*spectrum_x[1:]\n",
    "\n",
    "    if plots:\n",
    "        plt.subplot(211)\n",
    "        plt.plot(time[:], x[:], '-o')\n",
    "        plt.subplot(212)\n",
    "        plt.loglog(freq_x, spectrum_x, '.')\n",
    "        plt.show()\n",
    "\n",
    "    return x, time\n",
    "\n",
    "def RTN(RTN_num, tread, fdarkN, nelements=2000,rate=0.2):\n",
    "    \n",
    "    ru = np.random.uniform\n",
    "\n",
    "    if RTN_num==0:\n",
    "        fdarkN = fdarkN\n",
    "        \n",
    "    if RTN_num==1: \n",
    "        sRTN, tRTN = make_random_trace(nelements,rate,0)  \n",
    "        sRTNterp = ru(200)*np.interp(tread,tRTN,sRTN)\n",
    "        fon = ru(0.0)\n",
    "        if (fon < 0.5):\n",
    "            fon = 0.5    #  At least 50%\n",
    "        for RTN in range(0,nreads):\n",
    "            on = ru(0.0)\n",
    "            if (on <= fon):\n",
    "                fdarkN[RTN] += sRTNterp[RTN]*np.mean(fdarkN)\n",
    "\n",
    "    if RTN_num==2:\n",
    "        fon = ru(0.0) # frequency of readouts that should have RTN\n",
    "        if (fon < 0.2):  \n",
    "            fon = 0.2    #  At least 20%.\n",
    "        level = 0.2*np.mean(fdarkN) # RTN maximum offset from nominal\n",
    "        level = level*ru(0.0)\n",
    "        for RTN in range(0,nreads):\n",
    "            # Generate a random number to decide if this readout is telegraphing \n",
    "            # or not.\n",
    "            on = ru(0.0) \n",
    "            if (on <= fon):\n",
    "                fdarkN[RTN] += level\n",
    "\n",
    "    return fdarkN\n",
    "    \n",
    "def MACCsimulator(darkcurrent=0.04, nonlin=-0.00005, readnoise =9.0, RTN_num=1, rtn_nelements=2000, rtn_rate=0.2 , plot='yes'):\n",
    "    '''MACC simulator with different parameters'''\n",
    "    \n",
    "    lightcurrent=10.0\n",
    "    ng=15\n",
    "    nf=16\n",
    "    nd=11\n",
    "    tf = 1.4548 # tf = 1.42 in DPU test Sec. 8.2.\n",
    "    detGain = 1.3 # detGain = 1/1.4 DPU test; typos \"8.4\"?\n",
    "    offsetADU = 0.\n",
    "    \n",
    "    sigmaRead = readnoise/detGain # ADU\n",
    "    fluence = ( darkcurrent + lightcurrent )/ detGain  # ADU/sec\n",
    "    tgrp = (nf + nd)*tf\n",
    "    tint = (ng-1.)*(nf+nd)*tf\n",
    "    nreads = int((ng*nf + (ng-1.)*nd))\n",
    "    texp =  nreads*tf\n",
    "\n",
    "    # time vector\n",
    "    read = np.arange(nreads)\n",
    "    tread = read*tf\n",
    "    fdark = fluence*tread + nonlin*((fluence*tread)**2) #  curved signal\n",
    "    if plot=='yes':\n",
    "        plt.plot(tread,fdark,label='dark')\n",
    "\n",
    "    rg = np.random.rand(nreads)            \n",
    "    fdarkN = fdark + rg * sigmaRead  / np.max(rg)  \n",
    "\n",
    "    if plot=='yes':\n",
    "        plt.plot(tread,fdarkN,label='+random noise')\n",
    "\n",
    "    ## ADDRTN    \n",
    "    fdarkN = RTN(RTN_num,tread,fdarkN ,nelements=rtn_nelements, rate=rtn_rate)\n",
    "        \n",
    "    alpha = (1 - (nf**2))/(3.*nf*(nf+nd))  \n",
    "    beta = 2.*(sigmaRead**2)/(nf*(alpha+1))   \n",
    "    s2,t2 = np.float(), np.float()\n",
    "    for i in range(nreads):\n",
    "        if i % int(nf+nd) in (range(nf)):\n",
    "            s = fdarkN[i]\n",
    "            t = tread[i]\n",
    "            s2 = np.append(s2, s)\n",
    "            t2 = np.append(t2, t) \n",
    "    \n",
    "    if plot=='yes':\n",
    "        plt.plot(t2,s2,'r.',label='groups')\n",
    "\n",
    "    fgrp = np.reshape(s2[1:],[ng,nf])\n",
    "    tgrp = np.reshape(t2[1:],[ng,nf])\n",
    "    fgrpavg,tgrpavg =[],[]\n",
    "    for i in range(ng):\n",
    "        fga = np.mean(fgrp[i,:])\n",
    "        tga = np.mean(tgrp[i,:])\n",
    "        fgrpavg = np.append(fgrpavg, fga)\n",
    "        tgrpavg = np.append(tgrpavg, tga)\n",
    "\n",
    "    if plot=='yes':\n",
    "        plt.plot(tgrpavg,fgrpavg,'g.',label='avg')\n",
    "        plt.legend(loc=4)\n",
    "\n",
    "\n",
    "    L = fgrpavg   \n",
    "    deltaT = tgrpavg[1]-tgrpavg[0] \n",
    "    a = 1\n",
    "    b = ng\n",
    "\n",
    "    slopeDPU_1 = np.sqrt( 1 + 4 * ( sumRange(L,a,b,0)/((ng - 1)*((1+alpha)**2)) ) )  # DPU Manual\n",
    "    slopeDPU_0 = (1 + alpha) / 2.  # DPU manual\n",
    "    slopeDPU = slopeDPU_0 * (slopeDPU_1 - 1) - beta\n",
    "    signalDPU = slopeDPU * (ng - 1) + offsetADU # Downlinked signal in ADU\n",
    "    pseudoFlux = np.sqrt ( sumRange(L,a,b,0) / (ng - 1) ) - beta\n",
    "    QF = ( 2*detGain/(1+alpha) ) * ( (ng - 1)*pseudoFlux - (fgrpavg[ng-1] - fgrpavg[0]) )\n",
    "\n",
    "    # Simple least squares fit to the full ramp for comparison\n",
    "    coeff = poly.polyfit(tread[1:], fdarkN[1:], 1)\n",
    "    ffit = poly.polyval(tread[1:], coeff)\n",
    "    chisqr = np.sum((poly.polyval(tread, coeff) - fdarkN) ** 2) / np.std(fdarkN)\n",
    "\n",
    "    return QF"
   ]
  },
  {
   "cell_type": "code",
   "execution_count": 57,
   "metadata": {},
   "outputs": [
    {
     "data": {
      "text/plain": [
       "277.86810500038445"
      ]
     },
     "execution_count": 57,
     "metadata": {},
     "output_type": "execute_result"
    },
    {
     "data": {
      "image/png": "[encoded data removed]",
      "text/plain": [
       "<Figure size 432x288 with 1 Axes>"
      ]
     },
     "metadata": {
      "needs_background": "light"
     },
     "output_type": "display_data"
    }
   ],
   "source": [
    "MACCsimulator(darkcurrent=0.04, nonlin=-0.00005, readnoise =9.0, RTN_num=1, rtn_nelements=2000, rtn_rate=0.2 , plot='yes')"
   ]
  },
  {
   "cell_type": "code",
   "execution_count": 78,
   "metadata": {},
   "outputs": [],
   "source": [
    "def mcmc_nonlinearity(steps=1500):\n",
    "    '''MCMC over non_linearity, RTN and dark noise to see effect on QF'''\n",
    "    \n",
    "    nl0=-0.00005\n",
    "    noise0=9.0\n",
    "    dark0=0.04\n",
    "\n",
    "    chain=[[nl0,noise0,dark0]]\n",
    "    x=[0]\n",
    "    for i in range(steps):\n",
    "    \n",
    "        index=np.random.randint(1,4)\n",
    "    \n",
    "        nl1, noise1, dark1 =nl0, noise0, dark0\n",
    "    \n",
    "        if index==1:\n",
    "            nl1 = nl0 + 0.00001*(np.random.uniform(-1,1))\n",
    "            if nl1 >0:\n",
    "                nl1 = nl0+0.00001*(np.random.uniform(-1,0))\n",
    "        if index==2:\n",
    "            noise1 = noise0 + 0.1*(np.random.uniform(-1,1))\n",
    "        if index==3:\n",
    "            dark1 = dark0 + 0.01*(np.random.uniform(-1,1))\n",
    "            if dark1 <0:\n",
    "                dark1=dark0+0.01*(np.random.uniform(0,1))\n",
    "  \n",
    "        p0 = MACCsimulator(darkcurrent=dark0, nonlin=nl0, readnoise =noise0, RTN_num=0, rtn_nelements=2000, rtn_rate=0.2 , plot='no')\n",
    "        p1 = MACCsimulator(darkcurrent=dark1, nonlin=nl1, readnoise =noise1, RTN_num=0, rtn_nelements=2000, rtn_rate=0.2 , plot='no')\n",
    "        \n",
    "        if i%100==0:\n",
    "            print(i)    \n",
    "    \n",
    "        if (p1-p0 < 10):\n",
    "            x.append(i)\n",
    "            chain.append([nl1,noise1,dark1])\n",
    "            nl0, noise0, dark0 = nl1, noise1, dark1\n",
    "\n",
    "    nevis = open('MAAC_params'+str(steps)+'.cat', 'w')\n",
    "    for i in range(len(chain)):\n",
    "        nevis.write(str(chain[i][0])+'\\t'+str(chain[i][1])+'\\t'+str(chain[i][2])+'\\n')\n",
    "    nevis.close()   \n",
    "    \n",
    "    return chain"
   ]
  },
  {
   "cell_type": "code",
   "execution_count": 79,
   "metadata": {},
   "outputs": [
    {
     "name": "stdout",
     "output_type": "stream",
     "text": [
      "0\n",
      "100\n",
      "200\n",
      "300\n",
      "400\n",
      "500\n",
      "600\n",
      "700\n",
      "800\n",
      "900\n",
      "1000\n",
      "1100\n",
      "1200\n",
      "1300\n",
      "1400\n"
     ]
    }
   ],
   "source": [
    "chain = mcmc_nonlinearity(1500)"
   ]
  },
  {
   "cell_type": "code",
   "execution_count": 80,
   "metadata": {},
   "outputs": [
    {
     "data": {
      "text/plain": [
       "Text(0.5, 0, 'dark current')"
      ]
     },
     "execution_count": 80,
     "metadata": {},
     "output_type": "execute_result"
    },
    {
     "data": {
      "image/png": "[encoded data removed]",
      "text/plain": [
       "<Figure size 1080x288 with 6 Axes>"
      ]
     },
     "metadata": {
      "needs_background": "light"
     },
     "output_type": "display_data"
    }
   ],
   "source": [
    "burnin=int(0.01*len(chain))\n",
    "k=0\n",
    "nevis=np.loadtxt('MAAC_params1500.cat')\n",
    "falp,fbet,flst,x2=np.zeros(len(nevis[:,0])-burnin),np.zeros(len(nevis[:,0])-burnin),np.zeros(len(nevis[:,0])-burnin),np.zeros(len(nevis[:,0])-burnin)\n",
    "\n",
    "for i in range(burnin,len(nevis[:,0])):\n",
    "    falp[k]=nevis[i][0]\n",
    "    fbet[k]=nevis[i][1]\n",
    "    flst[k]=nevis[i][2]\n",
    "    x2[k]=k\n",
    "    k+=1\n",
    "\n",
    "f, ((ax1, ax2,ax3),(ax4,ax5,ax6)) = plt.subplots(2, 3)\n",
    "f.set_figheight(4)\n",
    "f.set_figwidth(15)\n",
    "\n",
    "ax1.plot(x2,falp)\n",
    "ax2.plot(x2,fbet)\n",
    "ax3.plot(x2,flst)\n",
    "\n",
    "binwidth=(max(falp)-min(falp))/20\n",
    "binso=np.arange(min(falp), max(falp), binwidth)\n",
    "hehe=ax4.hist(falp,bins=binso,normed=1)\n",
    "xhist=hehe[1][0:-1]+binwidth/2.0\n",
    "yhist=hehe[0]\n",
    "ax4.set_xlabel(r'nonlinearity',size=30)\n",
    "\n",
    "binwidth=(max(fbet)-min(fbet))/20\n",
    "binso=np.arange(min(fbet), max(fbet), binwidth)\n",
    "haha=ax5.hist(fbet,bins=binso,normed=1)\n",
    "xhist=haha[1][0:-1]+binwidth/2.0\n",
    "yhist=haha[0]\n",
    "ax5.set_xlabel(r'readnoise',size=30)\n",
    "\n",
    "binwidth=(max(flst)-min(flst))/20\n",
    "binso=np.arange(min(flst), max(flst), binwidth)\n",
    "hoho=ax6.hist(flst,bins=binso,normed=1)\n",
    "xhist=hoho[1][0:-1]+binwidth/2.0\n",
    "yhist=hoho[0]\n",
    "ax6.set_xlabel(r'dark current',size=30)\n"
   ]
  },
  {
   "cell_type": "code",
   "execution_count": null,
   "metadata": {},
   "outputs": [],
   "source": []
  },
  {
   "cell_type": "code",
   "execution_count": 3,
   "metadata": {},
   "outputs": [],
   "source": [
    "# Instantiate a noise generator object for NIRSpec H2RGs. You\n",
    "# can set verbose=True if you want to see diagnostic information. This\n",
    "# will take about 20 seconds to execute on a modern laptop computer.\n",
    "ng_h2rg = ng.HXRGNoise(verbose=False, naxis3 = 2)\n",
    "#ng_h4rg = ng.HXRGNoise(naxis1=4096, naxis2=4096, n_out=32, nroh=8, verbose=False)\n",
    "\n",
    "\n",
    "# Use parameters that generate noise similar to JWST NIRSpec\n",
    "rd_noise=4.   # White read noise per integration\n",
    "pedestal=4.   # DC pedestal drift rms\n",
    "c_pink=3.     # Correlated pink noise\n",
    "u_pink=1.     # Uncorrelated pink noise\n",
    "acn=.5        # Correlated ACN\n",
    "pca0_amp=.2   # Amplitude of PCA zero \"picture frame\" noise\n",
    "\n",
    "# Do it\n",
    "my_hdu = ng_h2rg.mknoise('ex_2.1.1.fits', rd_noise=rd_noise, pedestal=pedestal,\n",
    "                c_pink=c_pink, u_pink=u_pink, acn=acn, pca0_amp=pca0_amp)"
   ]
  },
  {
   "cell_type": "code",
   "execution_count": 4,
   "metadata": {},
   "outputs": [
    {
     "name": "stdout",
     "output_type": "stream",
     "text": [
      "(2, 2048, 2048)\n"
     ]
    }
   ],
   "source": [
    "import astropy.io.fits as fits\n",
    "\n",
    "\n",
    "# Open the result of Ex. 2.1.1\n",
    "hdulist = fits.open('ex_2.1.1.fits')\n",
    "\n",
    "# Add Poisson noise to the data\n",
    "d = hdulist[0].data \n",
    "\n",
    "print(d.shape)\n",
    "\n",
    "import astropy.io.fits as fits\n",
    "# Setup\n",
    "i_dark = 0.005# e-/s/pix\n",
    "t = 934.# s\n",
    "\n",
    "# Open the result of Ex. 2.1.1\n",
    "hdulist = fits.open('ex_2.1.1.fits')\n",
    "\n",
    "# Add Poisson noise to the data\n",
    "d = hdulist[0].data + np.random.poisson(i_dark*t, np.shape(hdulist[0].data))\n",
    "\n",
    "# Write result\n",
    "hduout = fits.PrimaryHDU(d)\n",
    "hduout.writeto('ex_2.1.1b.fits', clobber=True)\n",
    "\n",
    "# Clean up\n",
    "hdulist.close()"
   ]
  }
 ],
 "metadata": {
  "kernelspec": {
   "display_name": "Python 3",
   "language": "python",
   "name": "python3"
  },
  "language_info": {
   "codemirror_mode": {
    "name": "ipython",
    "version": 3
   },
   "file_extension": ".py",
   "mimetype": "text/x-python",
   "name": "python",
   "nbconvert_exporter": "python",
   "pygments_lexer": "ipython3",
   "version": "3.7.4"
  }
 },
 "nbformat": 4,
 "nbformat_minor": 4
}
